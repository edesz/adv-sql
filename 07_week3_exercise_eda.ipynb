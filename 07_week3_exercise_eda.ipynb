{
 "cells": [
  {
   "cell_type": "markdown",
   "id": "55c94750-fd47-4c1d-9f33-faa57a1b5482",
   "metadata": {},
   "source": [
    "# Week 3 Exercise Exploratory Data Analysis"
   ]
  },
  {
   "cell_type": "code",
   "execution_count": 1,
   "id": "0eff40f8-d74a-4054-8c99-c561f9779c89",
   "metadata": {},
   "outputs": [],
   "source": [
    "%load_ext autoreload\n",
    "%autoreload 2"
   ]
  },
  {
   "cell_type": "code",
   "execution_count": 2,
   "id": "5bfdee2e-67ef-46c0-af59-1ae4dbd2572f",
   "metadata": {},
   "outputs": [],
   "source": [
    "import os\n",
    "import sys\n",
    "\n",
    "import pandas as pd\n",
    "from sqlalchemy import create_engine\n",
    "from snowflake.sqlalchemy import URL"
   ]
  },
  {
   "cell_type": "code",
   "execution_count": 3,
   "id": "b589dbac-e302-488d-8235-6de03fecced5",
   "metadata": {},
   "outputs": [],
   "source": [
    "PROJ_ROOT = os.pardir\n",
    "src_dir = os.path.join(PROJ_ROOT, \"src\")\n",
    "sys.path.append(src_dir)"
   ]
  },
  {
   "cell_type": "code",
   "execution_count": 4,
   "id": "9016eb59-b935-4681-b22d-9fa22c21686e",
   "metadata": {},
   "outputs": [],
   "source": [
    "%aimport sql_utils\n",
    "from sql_utils import compare_outputs"
   ]
  },
  {
   "cell_type": "markdown",
   "id": "d4423ea1-6902-46d6-964e-e90e3b5b9aa9",
   "metadata": {},
   "source": [
    "## About"
   ]
  },
  {
   "cell_type": "markdown",
   "id": "6b88ff4f-f986-494b-8d85-91bfd82e7f1c",
   "metadata": {},
   "source": [
    "Week 3 exercise Exploratory Data Analysis (EDA)."
   ]
  },
  {
   "cell_type": "markdown",
   "id": "c7089255-9323-4b8c-9e88-7bde1e426c57",
   "metadata": {},
   "source": [
    "## Create SQL Engine"
   ]
  },
  {
   "cell_type": "code",
   "execution_count": 5,
   "id": "c0257dfd-0ef5-4927-b927-7c67eb690a3b",
   "metadata": {},
   "outputs": [],
   "source": [
    "engine = create_engine(\n",
    "    URL(\n",
    "        drivername=\"driver\",\n",
    "        account=os.getenv(\"UPLIMIT_SNOWFLAKE_ACCOUNT\"),\n",
    "        user=os.getenv(\"UPLIMIT_SNOWFLAKE_USER\"),\n",
    "        password=os.getenv(\"UPLIMIT_SNOWFLAKE_PASS\"),\n",
    "        warehouse=os.getenv(\"UPLIMIT_SNOWFLAKE_WAREHOUSE\"),\n",
    "        database=os.getenv(\"UPLIMIT_SNOWFLAKE_DB_NAME\"),\n",
    "        role=os.getenv(\"UPLIMIT_SNOWFLAKE_ROLE\"),\n",
    "        timezone=os.getenv(\"MY_TIMEZONE\"),\n",
    "    ),\n",
    "    connect_args=dict(session_parameters={\"USE_CACHED_RESULT\": False}),\n",
    ")"
   ]
  },
  {
   "cell_type": "markdown",
   "id": "58828e3c-d23a-4fc9-b91a-44008bf66709",
   "metadata": {},
   "source": [
    "## Connect"
   ]
  },
  {
   "cell_type": "markdown",
   "id": "fb261a05-cafb-489c-8ae2-716a8942d146",
   "metadata": {},
   "source": [
    "Load SQL extension"
   ]
  },
  {
   "cell_type": "code",
   "execution_count": 6,
   "id": "20802af1-75ed-4391-a7fe-d816cbfe48a5",
   "metadata": {},
   "outputs": [],
   "source": [
    "%load_ext sql"
   ]
  },
  {
   "cell_type": "markdown",
   "id": "879407f1-eb34-4417-add8-08b78f8dfa7c",
   "metadata": {},
   "source": [
    "Connect to Uplimit's Snowflake instance"
   ]
  },
  {
   "cell_type": "code",
   "execution_count": 7,
   "id": "4e885105-e9fe-4834-89e7-cc9003c0434c",
   "metadata": {},
   "outputs": [],
   "source": [
    "%sql engine --alias connection"
   ]
  },
  {
   "cell_type": "markdown",
   "id": "39d9ee0c-803c-4202-8ee0-ba4fbce42aeb",
   "metadata": {},
   "source": [
    "## Exploratory Data Analysis"
   ]
  },
  {
   "cell_type": "markdown",
   "id": "d4d29e97-9cb2-4d3f-8227-e40ea0e5394b",
   "metadata": {},
   "source": [
    "### Overview of Table"
   ]
  },
  {
   "cell_type": "markdown",
   "id": "bcce4ebc-f248-4f87-b86d-1292732d57a9",
   "metadata": {},
   "source": [
    "Show the first four rows of the events table"
   ]
  },
  {
   "cell_type": "code",
   "execution_count": 8,
   "id": "e392b1c8-82b2-4567-a985-a4f19891ed9e",
   "metadata": {},
   "outputs": [
    {
     "data": {
      "text/html": [
       "<span style=\"None\">Running query in &#x27;connection&#x27;</span>"
      ],
      "text/plain": [
       "Running query in 'connection'"
      ]
     },
     "metadata": {},
     "output_type": "display_data"
    },
    {
     "data": {
      "text/html": [
       "<span style=\"color: green\">4 rows affected.</span>"
      ],
      "text/plain": [
       "4 rows affected."
      ]
     },
     "metadata": {},
     "output_type": "display_data"
    },
    {
     "data": {
      "text/html": [
       "<table>\n",
       "    <thead>\n",
       "        <tr>\n",
       "            <th>event_id</th>\n",
       "            <th>session_id</th>\n",
       "            <th>user_id</th>\n",
       "            <th>event_timestamp</th>\n",
       "            <th>event_details</th>\n",
       "        </tr>\n",
       "    </thead>\n",
       "    <tbody>\n",
       "        <tr>\n",
       "            <td>cbf76489-37c3-4fc9-a6f1-be0823067aec</td>\n",
       "            <td>a81ce2ae-74f6-4409-8ba6-e0807e714db9</td>\n",
       "            <td>86d12402-6608-4d50-af53-dd12b6041531</td>\n",
       "            <td>2023-01-24 03:58:59.424000-05:00</td>\n",
       "            <td>{ \"event\":\"pageview\", \"page\":\"home\" }</td>\n",
       "        </tr>\n",
       "        <tr>\n",
       "            <td>e4090e60-bb72-4057-a576-c6d3c0dfae62</td>\n",
       "            <td>70ce9652-49f6-4c00-a9d3-ca0aee482147</td>\n",
       "            <td>4558e9dd-41e9-424c-b149-7d8f93729be8</td>\n",
       "            <td>2023-01-24 11:58:57.985000-05:00</td>\n",
       "            <td>{ \"event\":\"pageview\", \"page\":\"home\" }</td>\n",
       "        </tr>\n",
       "        <tr>\n",
       "            <td>3d781e12-3834-4f8c-9b5f-224b0f3f7e38</td>\n",
       "            <td>63b4464c-0523-4c66-bc50-8e54470308bf</td>\n",
       "            <td>98a8e24b-10e2-4d5e-b749-d73e067c8127</td>\n",
       "            <td>2023-01-24 15:58:56.625000-05:00</td>\n",
       "            <td>{ \"event\":\"pageview\", \"page\":\"home\" }</td>\n",
       "        </tr>\n",
       "        <tr>\n",
       "            <td>8590374a-924a-426f-b90e-8660560dfb20</td>\n",
       "            <td>c7d3a7e5-1a77-4aa3-b575-93d7761b260b</td>\n",
       "            <td>1dfbafda-1510-4427-a9fb-5994460e3e50</td>\n",
       "            <td>2023-01-24 19:58:55.322000-05:00</td>\n",
       "            <td>{ \"event\":\"pageview\", \"page\":\"home\" }</td>\n",
       "        </tr>\n",
       "    </tbody>\n",
       "</table>"
      ],
      "text/plain": [
       "+--------------------------------------+--------------------------------------+--------------------------------------+----------------------------------+---------------------------------------+\n",
       "|               event_id               |              session_id              |               user_id                |         event_timestamp          |             event_details             |\n",
       "+--------------------------------------+--------------------------------------+--------------------------------------+----------------------------------+---------------------------------------+\n",
       "| cbf76489-37c3-4fc9-a6f1-be0823067aec | a81ce2ae-74f6-4409-8ba6-e0807e714db9 | 86d12402-6608-4d50-af53-dd12b6041531 | 2023-01-24 03:58:59.424000-05:00 | { \"event\":\"pageview\", \"page\":\"home\" } |\n",
       "| e4090e60-bb72-4057-a576-c6d3c0dfae62 | 70ce9652-49f6-4c00-a9d3-ca0aee482147 | 4558e9dd-41e9-424c-b149-7d8f93729be8 | 2023-01-24 11:58:57.985000-05:00 | { \"event\":\"pageview\", \"page\":\"home\" } |\n",
       "| 3d781e12-3834-4f8c-9b5f-224b0f3f7e38 | 63b4464c-0523-4c66-bc50-8e54470308bf | 98a8e24b-10e2-4d5e-b749-d73e067c8127 | 2023-01-24 15:58:56.625000-05:00 | { \"event\":\"pageview\", \"page\":\"home\" } |\n",
       "| 8590374a-924a-426f-b90e-8660560dfb20 | c7d3a7e5-1a77-4aa3-b575-93d7761b260b | 1dfbafda-1510-4427-a9fb-5994460e3e50 | 2023-01-24 19:58:55.322000-05:00 | { \"event\":\"pageview\", \"page\":\"home\" } |\n",
       "+--------------------------------------+--------------------------------------+--------------------------------------+----------------------------------+---------------------------------------+"
      ]
     },
     "execution_count": 8,
     "metadata": {},
     "output_type": "execute_result"
    }
   ],
   "source": [
    "%%sql result = <<\n",
    "SELECT *\n",
    "FROM events.website_activity\n",
    "LIMIT 4"
   ]
  },
  {
   "cell_type": "markdown",
   "id": "0919d931-beb3-4c9b-a244-af6f9fedc015",
   "metadata": {},
   "source": [
    "Show the data type for the `event_details` column"
   ]
  },
  {
   "cell_type": "code",
   "execution_count": 9,
   "id": "c4a6cc37-d85a-48d1-8af7-cc208c417010",
   "metadata": {},
   "outputs": [
    {
     "data": {
      "text/html": [
       "<span style=\"None\">Running query in &#x27;connection&#x27;</span>"
      ],
      "text/plain": [
       "Running query in 'connection'"
      ]
     },
     "metadata": {},
     "output_type": "display_data"
    },
    {
     "data": {
      "text/html": [
       "<span style=\"color: green\">4 rows affected.</span>"
      ],
      "text/plain": [
       "4 rows affected."
      ]
     },
     "metadata": {},
     "output_type": "display_data"
    },
    {
     "data": {
      "text/html": [
       "<table>\n",
       "    <thead>\n",
       "        <tr>\n",
       "            <th>event_details</th>\n",
       "            <th>data_type</th>\n",
       "        </tr>\n",
       "    </thead>\n",
       "    <tbody>\n",
       "        <tr>\n",
       "            <td>{ \"event\":\"pageview\", \"page\":\"home\" }</td>\n",
       "            <td>VARCHAR</td>\n",
       "        </tr>\n",
       "        <tr>\n",
       "            <td>{ \"event\":\"pageview\", \"page\":\"home\" }</td>\n",
       "            <td>VARCHAR</td>\n",
       "        </tr>\n",
       "        <tr>\n",
       "            <td>{ \"event\":\"pageview\", \"page\":\"home\" }</td>\n",
       "            <td>VARCHAR</td>\n",
       "        </tr>\n",
       "        <tr>\n",
       "            <td>{ \"event\":\"pageview\", \"page\":\"home\" }</td>\n",
       "            <td>VARCHAR</td>\n",
       "        </tr>\n",
       "    </tbody>\n",
       "</table>"
      ],
      "text/plain": [
       "+---------------------------------------+-----------+\n",
       "|             event_details             | data_type |\n",
       "+---------------------------------------+-----------+\n",
       "| { \"event\":\"pageview\", \"page\":\"home\" } |  VARCHAR  |\n",
       "| { \"event\":\"pageview\", \"page\":\"home\" } |  VARCHAR  |\n",
       "| { \"event\":\"pageview\", \"page\":\"home\" } |  VARCHAR  |\n",
       "| { \"event\":\"pageview\", \"page\":\"home\" } |  VARCHAR  |\n",
       "+---------------------------------------+-----------+"
      ]
     },
     "execution_count": 9,
     "metadata": {},
     "output_type": "execute_result"
    }
   ],
   "source": [
    "%%sql result = <<\n",
    "SELECT event_details,\n",
    "       TYPEOF(event_details::VARIANT) AS data_type\n",
    "FROM events.website_activity\n",
    "LIMIT 4"
   ]
  },
  {
   "cell_type": "markdown",
   "id": "8014b0f7-7f6e-4cd2-81fd-0750d8a05724",
   "metadata": {},
   "source": [
    "**Observations**\n",
    "\n",
    "1. The `event_details` column is stored as a string. This needs to be converted to a `JSON` object [using `PARSE_JSON`](https://docs.snowflake.com/en/sql-reference/functions/parse_json) before its attributes (`event` and `page`) can be queried."
   ]
  },
  {
   "cell_type": "markdown",
   "id": "eeba8714-7661-4752-a149-5a25088e9619",
   "metadata": {},
   "source": [
    "Count the number of rows in the events table"
   ]
  },
  {
   "cell_type": "code",
   "execution_count": 10,
   "id": "17e59cda-f7c1-4677-a200-669b9511fbc2",
   "metadata": {},
   "outputs": [
    {
     "data": {
      "text/html": [
       "<span style=\"None\">Running query in &#x27;connection&#x27;</span>"
      ],
      "text/plain": [
       "Running query in 'connection'"
      ]
     },
     "metadata": {},
     "output_type": "display_data"
    },
    {
     "data": {
      "text/html": [
       "<span style=\"color: green\">1 rows affected.</span>"
      ],
      "text/plain": [
       "1 rows affected."
      ]
     },
     "metadata": {},
     "output_type": "display_data"
    },
    {
     "data": {
      "text/html": [
       "<table>\n",
       "    <thead>\n",
       "        <tr>\n",
       "            <th>num_rows</th>\n",
       "        </tr>\n",
       "    </thead>\n",
       "    <tbody>\n",
       "        <tr>\n",
       "            <td>348</td>\n",
       "        </tr>\n",
       "    </tbody>\n",
       "</table>"
      ],
      "text/plain": [
       "+----------+\n",
       "| num_rows |\n",
       "+----------+\n",
       "|   348    |\n",
       "+----------+"
      ]
     },
     "execution_count": 10,
     "metadata": {},
     "output_type": "execute_result"
    }
   ],
   "source": [
    "%%sql result = <<\n",
    "SELECT COUNT(*) AS num_rows\n",
    "FROM events.website_activity"
   ]
  },
  {
   "cell_type": "markdown",
   "id": "e6c04995-47b4-4122-b51e-fe7ca31364d4",
   "metadata": {},
   "source": [
    "### Checking for Duplicates"
   ]
  },
  {
   "cell_type": "markdown",
   "id": "2996e2d6-1af6-4847-b9fe-8cbb5d6fd87f",
   "metadata": {},
   "source": [
    "Count the number of unique values in each column. Get this using the\n",
    "1. `event_id`\n",
    "2. `event_timestamp`\n",
    "\n",
    "columns"
   ]
  },
  {
   "cell_type": "code",
   "execution_count": 11,
   "id": "1818fa5c-f8ad-4e1a-81bb-c1bfac772c71",
   "metadata": {},
   "outputs": [
    {
     "data": {
      "text/html": [
       "<span style=\"None\">Running query in &#x27;connection&#x27;</span>"
      ],
      "text/plain": [
       "Running query in 'connection'"
      ]
     },
     "metadata": {},
     "output_type": "display_data"
    },
    {
     "data": {
      "text/html": [
       "<span style=\"color: green\">1 rows affected.</span>"
      ],
      "text/plain": [
       "1 rows affected."
      ]
     },
     "metadata": {},
     "output_type": "display_data"
    },
    {
     "data": {
      "text/html": [
       "<table>\n",
       "    <thead>\n",
       "        <tr>\n",
       "            <th>num_sessions</th>\n",
       "            <th>num_users</th>\n",
       "            <th>num_events</th>\n",
       "            <th>num_event_timestamps</th>\n",
       "            <th>num_rows</th>\n",
       "            <th>num_event_details</th>\n",
       "        </tr>\n",
       "    </thead>\n",
       "    <tbody>\n",
       "        <tr>\n",
       "            <td>178</td>\n",
       "            <td>178</td>\n",
       "            <td>309</td>\n",
       "            <td>309</td>\n",
       "            <td>348</td>\n",
       "            <td>9</td>\n",
       "        </tr>\n",
       "    </tbody>\n",
       "</table>"
      ],
      "text/plain": [
       "+--------------+-----------+------------+----------------------+----------+-------------------+\n",
       "| num_sessions | num_users | num_events | num_event_timestamps | num_rows | num_event_details |\n",
       "+--------------+-----------+------------+----------------------+----------+-------------------+\n",
       "|     178      |    178    |    309     |         309          |   348    |         9         |\n",
       "+--------------+-----------+------------+----------------------+----------+-------------------+"
      ]
     },
     "execution_count": 11,
     "metadata": {},
     "output_type": "execute_result"
    }
   ],
   "source": [
    "%%sql result = <<\n",
    "SELECT COUNT(DISTINCT(session_id)) AS num_sessions,\n",
    "       COUNT(DISTINCT(user_id)) AS num_users,\n",
    "       COUNT(DISTINCT(event_id)) AS num_events,\n",
    "       COUNT(DISTINCT(event_timestamp)) AS num_event_timestamps,\n",
    "       COUNT(*) AS num_rows,\n",
    "       COUNT(DISTINCT(event_details)) AS num_event_details\n",
    "FROM events.website_activity"
   ]
  },
  {
   "cell_type": "markdown",
   "id": "27fc4e67-c466-4e42-8bc2-216edf9287fb",
   "metadata": {},
   "source": [
    "**Observations**\n",
    "\n",
    "1. The number of rows is greater than the number of unique `event_id`s and unique `event_timestamps`. This indicates there are some duplicated `event_id`s and `event_timestamp`s in the events table.\n",
    "2. One session is recorded per user. The `user_id` and `session_id` columns are redundant. If only unique sessions are of interest, then we can group describe a session by using only the `session_id` column.\n",
    "3. Each `event_id` corresponds to its own `event_timestamp`. Similar to above, the `event_id` and `event_timestamp` columns are redundant. If unique events are of interest, then we can describe an event using the `event_id` column."
   ]
  },
  {
   "cell_type": "markdown",
   "id": "b81db5a4-aea6-4f66-ad80-a9dd7ebcf6ff",
   "metadata": {},
   "source": [
    "Get the rows which have a duplicated `event_id` or `event_timestamp` from five sessions"
   ]
  },
  {
   "cell_type": "code",
   "execution_count": 12,
   "id": "9e7d1fbb-05d4-49b2-b09f-7f8f7b1e784f",
   "metadata": {},
   "outputs": [
    {
     "data": {
      "text/html": [
       "<span style=\"None\">Running query in &#x27;connection&#x27;</span>"
      ],
      "text/plain": [
       "Running query in 'connection'"
      ]
     },
     "metadata": {},
     "output_type": "display_data"
    },
    {
     "data": {
      "text/html": [
       "<span style=\"color: green\">19 rows affected.</span>"
      ],
      "text/plain": [
       "19 rows affected."
      ]
     },
     "metadata": {},
     "output_type": "display_data"
    },
    {
     "data": {
      "text/html": [
       "<table>\n",
       "    <thead>\n",
       "        <tr>\n",
       "            <th>session_id</th>\n",
       "            <th>event_id</th>\n",
       "            <th>user_id</th>\n",
       "            <th>event_timestamp</th>\n",
       "            <th>event_details</th>\n",
       "        </tr>\n",
       "    </thead>\n",
       "    <tbody>\n",
       "        <tr>\n",
       "            <td>a81ce2ae-74f6-4409-8ba6-e0807e714db9</td>\n",
       "            <td>cbf76489-37c3-4fc9-a6f1-be0823067aec</td>\n",
       "            <td>86d12402-6608-4d50-af53-dd12b6041531</td>\n",
       "            <td>2023-01-24 03:58:59.424000-05:00</td>\n",
       "            <td>{ \"event\":\"pageview\", \"page\":\"home\" }</td>\n",
       "        </tr>\n",
       "        <tr>\n",
       "            <td>a81ce2ae-74f6-4409-8ba6-e0807e714db9</td>\n",
       "            <td>cbf76489-37c3-4fc9-a6f1-be0823067aec</td>\n",
       "            <td>86d12402-6608-4d50-af53-dd12b6041531</td>\n",
       "            <td>2023-01-24 03:58:59.424000-05:00</td>\n",
       "            <td>{ \"event\":\"pageview\", \"page\":\"home\" }</td>\n",
       "        </tr>\n",
       "        <tr>\n",
       "            <td>c7d3a7e5-1a77-4aa3-b575-93d7761b260b</td>\n",
       "            <td>8590374a-924a-426f-b90e-8660560dfb20</td>\n",
       "            <td>1dfbafda-1510-4427-a9fb-5994460e3e50</td>\n",
       "            <td>2023-01-24 19:58:55.322000-05:00</td>\n",
       "            <td>{ \"event\":\"pageview\", \"page\":\"home\" }</td>\n",
       "        </tr>\n",
       "        <tr>\n",
       "            <td>c7d3a7e5-1a77-4aa3-b575-93d7761b260b</td>\n",
       "            <td>8590374a-924a-426f-b90e-8660560dfb20</td>\n",
       "            <td>1dfbafda-1510-4427-a9fb-5994460e3e50</td>\n",
       "            <td>2023-01-24 19:58:55.322000-05:00</td>\n",
       "            <td>{ \"event\":\"pageview\", \"page\":\"home\" }</td>\n",
       "        </tr>\n",
       "        <tr>\n",
       "            <td>fb3e5bb6-b715-4a9a-b5fe-74d298502acc</td>\n",
       "            <td>0eb76668-026d-44a5-a824-a1e68456d4d3</td>\n",
       "            <td>d985a0f1-0af3-4204-bf16-275f3639e892</td>\n",
       "            <td>2023-01-24 23:58:54.022000-05:00</td>\n",
       "            <td>{ \"event\":\"pageview\", \"page\":\"home\" }</td>\n",
       "        </tr>\n",
       "        <tr>\n",
       "            <td>fb3e5bb6-b715-4a9a-b5fe-74d298502acc</td>\n",
       "            <td>0eb76668-026d-44a5-a824-a1e68456d4d3</td>\n",
       "            <td>d985a0f1-0af3-4204-bf16-275f3639e892</td>\n",
       "            <td>2023-01-24 23:58:54.022000-05:00</td>\n",
       "            <td>{ \"event\":\"pageview\", \"page\":\"home\" }</td>\n",
       "        </tr>\n",
       "        <tr>\n",
       "            <td>fb3e5bb6-b715-4a9a-b5fe-74d298502acc</td>\n",
       "            <td>8f16e244-9d02-4cba-9d59-7959fefa8ccb</td>\n",
       "            <td>d985a0f1-0af3-4204-bf16-275f3639e892</td>\n",
       "            <td>2023-01-24 23:59:04.022000-05:00</td>\n",
       "            <td>{ \"event\":\"search\", \"page\":\"search\", \"search_tag\":\"comfort-food\" }</td>\n",
       "        </tr>\n",
       "        <tr>\n",
       "            <td>fb3e5bb6-b715-4a9a-b5fe-74d298502acc</td>\n",
       "            <td>7e8c6e59-4852-4989-9745-239650e7e028</td>\n",
       "            <td>d985a0f1-0af3-4204-bf16-275f3639e892</td>\n",
       "            <td>2023-01-25 00:05:00.022000-05:00</td>\n",
       "            <td>{ \"event\":\"search\", \"page\":\"search\", \"search_tag\":\"comfort-food\" }</td>\n",
       "        </tr>\n",
       "        <tr>\n",
       "            <td>fb3e5bb6-b715-4a9a-b5fe-74d298502acc</td>\n",
       "            <td>d59fede2-4e48-42d0-b4c2-b1878a6a9146</td>\n",
       "            <td>d985a0f1-0af3-4204-bf16-275f3639e892</td>\n",
       "            <td>2023-01-25 00:05:21.022000-05:00</td>\n",
       "            <td>{ \"event\":\"view_recipe\", \"page\":\"recipe\", \"recipe_id\":\"44dcd777-5b10-41e2-90df-4dca4b696971\" }</td>\n",
       "        </tr>\n",
       "        <tr>\n",
       "            <td>dd1c8bed-752d-4ca4-9b64-314d0a8f29c0</td>\n",
       "            <td>01c1e6f5-690c-4894-b82d-8927f702aa59</td>\n",
       "            <td>2bc9219e-0bd2-4aa7-bc17-5f435fcfaae4</td>\n",
       "            <td>2023-01-30 19:32:45.473000-05:00</td>\n",
       "            <td>{ \"event\":\"pageview\", \"page\":\"home\" }</td>\n",
       "        </tr>\n",
       "    </tbody>\n",
       "</table>\n",
       "<span style=\"font-style:italic;text-align:center;\">Truncated to <a href=\"https://jupysql.ploomber.io/en/latest/api/configuration.html#displaylimit\">displaylimit</a> of 10.</span>"
      ],
      "text/plain": [
       "+--------------------------------------+--------------------------------------+--------------------------------------+----------------------------------+------------------------------------------------------------------------------------------------+\n",
       "|              session_id              |               event_id               |               user_id                |         event_timestamp          |                                         event_details                                          |\n",
       "+--------------------------------------+--------------------------------------+--------------------------------------+----------------------------------+------------------------------------------------------------------------------------------------+\n",
       "| a81ce2ae-74f6-4409-8ba6-e0807e714db9 | cbf76489-37c3-4fc9-a6f1-be0823067aec | 86d12402-6608-4d50-af53-dd12b6041531 | 2023-01-24 03:58:59.424000-05:00 |                             { \"event\":\"pageview\", \"page\":\"home\" }                              |\n",
       "| a81ce2ae-74f6-4409-8ba6-e0807e714db9 | cbf76489-37c3-4fc9-a6f1-be0823067aec | 86d12402-6608-4d50-af53-dd12b6041531 | 2023-01-24 03:58:59.424000-05:00 |                             { \"event\":\"pageview\", \"page\":\"home\" }                              |\n",
       "| c7d3a7e5-1a77-4aa3-b575-93d7761b260b | 8590374a-924a-426f-b90e-8660560dfb20 | 1dfbafda-1510-4427-a9fb-5994460e3e50 | 2023-01-24 19:58:55.322000-05:00 |                             { \"event\":\"pageview\", \"page\":\"home\" }                              |\n",
       "| c7d3a7e5-1a77-4aa3-b575-93d7761b260b | 8590374a-924a-426f-b90e-8660560dfb20 | 1dfbafda-1510-4427-a9fb-5994460e3e50 | 2023-01-24 19:58:55.322000-05:00 |                             { \"event\":\"pageview\", \"page\":\"home\" }                              |\n",
       "| fb3e5bb6-b715-4a9a-b5fe-74d298502acc | 0eb76668-026d-44a5-a824-a1e68456d4d3 | d985a0f1-0af3-4204-bf16-275f3639e892 | 2023-01-24 23:58:54.022000-05:00 |                             { \"event\":\"pageview\", \"page\":\"home\" }                              |\n",
       "| fb3e5bb6-b715-4a9a-b5fe-74d298502acc | 0eb76668-026d-44a5-a824-a1e68456d4d3 | d985a0f1-0af3-4204-bf16-275f3639e892 | 2023-01-24 23:58:54.022000-05:00 |                             { \"event\":\"pageview\", \"page\":\"home\" }                              |\n",
       "| fb3e5bb6-b715-4a9a-b5fe-74d298502acc | 8f16e244-9d02-4cba-9d59-7959fefa8ccb | d985a0f1-0af3-4204-bf16-275f3639e892 | 2023-01-24 23:59:04.022000-05:00 |               { \"event\":\"search\", \"page\":\"search\", \"search_tag\":\"comfort-food\" }               |\n",
       "| fb3e5bb6-b715-4a9a-b5fe-74d298502acc | 7e8c6e59-4852-4989-9745-239650e7e028 | d985a0f1-0af3-4204-bf16-275f3639e892 | 2023-01-25 00:05:00.022000-05:00 |               { \"event\":\"search\", \"page\":\"search\", \"search_tag\":\"comfort-food\" }               |\n",
       "| fb3e5bb6-b715-4a9a-b5fe-74d298502acc | d59fede2-4e48-42d0-b4c2-b1878a6a9146 | d985a0f1-0af3-4204-bf16-275f3639e892 | 2023-01-25 00:05:21.022000-05:00 | { \"event\":\"view_recipe\", \"page\":\"recipe\", \"recipe_id\":\"44dcd777-5b10-41e2-90df-4dca4b696971\" } |\n",
       "| dd1c8bed-752d-4ca4-9b64-314d0a8f29c0 | 01c1e6f5-690c-4894-b82d-8927f702aa59 | 2bc9219e-0bd2-4aa7-bc17-5f435fcfaae4 | 2023-01-30 19:32:45.473000-05:00 |                             { \"event\":\"pageview\", \"page\":\"home\" }                              |\n",
       "+--------------------------------------+--------------------------------------+--------------------------------------+----------------------------------+------------------------------------------------------------------------------------------------+\n",
       "Truncated to displaylimit of 10."
      ]
     },
     "execution_count": 12,
     "metadata": {},
     "output_type": "execute_result"
    }
   ],
   "source": [
    "%%sql result = <<\n",
    "WITH num_events_per_session AS (\n",
    "    SELECT user_id,\n",
    "           session_id,\n",
    "           COUNT(DISTINCT(event_id)) AS num_unique_event_ids,\n",
    "           COUNT(event_id) AS num_event_ids,\n",
    "           COUNT(DISTINCT(event_timestamp)) AS num_unique_event_timestamps,\n",
    "           COUNT(event_timestamp) AS num_event_timestamps,\n",
    "           COUNT(DISTINCT(event_details)) AS num_unique_event_details,           \n",
    "           COUNT(event_details) AS num_event_details\n",
    "    FROM events.website_activity\n",
    "    /* each search has its own event_id */\n",
    "    WHERE session_id IN (\n",
    "        '3a0b4329-3ee0-4196-ad7f-27a6fac03a5f',\n",
    "        'c7d3a7e5-1a77-4aa3-b575-93d7761b260b',\n",
    "        'a81ce2ae-74f6-4409-8ba6-e0807e714db9',\n",
    "        'fb3e5bb6-b715-4a9a-b5fe-74d298502acc',\n",
    "        'dd1c8bed-752d-4ca4-9b64-314d0a8f29c0'\n",
    "    )\n",
    "    GROUP BY ALL\n",
    "),\n",
    "sessions_with_duplicated_events AS (\n",
    "    SELECT *\n",
    "    FROM num_events_per_session\n",
    "    WHERE num_unique_event_ids != num_event_ids\n",
    "    OR num_event_timestamps != num_unique_event_timestamps\n",
    ")\n",
    "SELECT wa.*\n",
    "FROM sessions_with_duplicated_events\n",
    "INNER JOIN events.website_activity AS wa USING (session_id)"
   ]
  },
  {
   "cell_type": "markdown",
   "id": "d08a70d5-07fc-4046-a5bd-a306c2dd9bcb",
   "metadata": {},
   "source": [
    "Show all the rows with a duplicated `event_id` or `event_timestamp` that were found above"
   ]
  },
  {
   "cell_type": "code",
   "execution_count": 13,
   "id": "9d98d361-a9ff-47f0-96e5-ff7b3c7a4f97",
   "metadata": {},
   "outputs": [
    {
     "data": {
      "text/html": [
       "<div>\n",
       "<style scoped>\n",
       "    .dataframe tbody tr th:only-of-type {\n",
       "        vertical-align: middle;\n",
       "    }\n",
       "\n",
       "    .dataframe tbody tr th {\n",
       "        vertical-align: top;\n",
       "    }\n",
       "\n",
       "    .dataframe thead th {\n",
       "        text-align: right;\n",
       "    }\n",
       "</style>\n",
       "<table border=\"1\" class=\"dataframe\">\n",
       "  <thead>\n",
       "    <tr style=\"text-align: right;\">\n",
       "      <th></th>\n",
       "      <th>session_id</th>\n",
       "      <th>event_id</th>\n",
       "      <th>user_id</th>\n",
       "      <th>event_timestamp</th>\n",
       "      <th>event_details</th>\n",
       "    </tr>\n",
       "  </thead>\n",
       "  <tbody>\n",
       "    <tr>\n",
       "      <th>0</th>\n",
       "      <td>a81ce2ae-74f6-4409-8ba6-e0807e714db9</td>\n",
       "      <td>cbf76489-37c3-4fc9-a6f1-be0823067aec</td>\n",
       "      <td>86d12402-6608-4d50-af53-dd12b6041531</td>\n",
       "      <td>2023-01-24 03:58:59.424000-05:00</td>\n",
       "      <td>{ \"event\":\"pageview\", \"page\":\"home\" }</td>\n",
       "    </tr>\n",
       "    <tr>\n",
       "      <th>1</th>\n",
       "      <td>a81ce2ae-74f6-4409-8ba6-e0807e714db9</td>\n",
       "      <td>cbf76489-37c3-4fc9-a6f1-be0823067aec</td>\n",
       "      <td>86d12402-6608-4d50-af53-dd12b6041531</td>\n",
       "      <td>2023-01-24 03:58:59.424000-05:00</td>\n",
       "      <td>{ \"event\":\"pageview\", \"page\":\"home\" }</td>\n",
       "    </tr>\n",
       "    <tr>\n",
       "      <th>2</th>\n",
       "      <td>c7d3a7e5-1a77-4aa3-b575-93d7761b260b</td>\n",
       "      <td>8590374a-924a-426f-b90e-8660560dfb20</td>\n",
       "      <td>1dfbafda-1510-4427-a9fb-5994460e3e50</td>\n",
       "      <td>2023-01-24 19:58:55.322000-05:00</td>\n",
       "      <td>{ \"event\":\"pageview\", \"page\":\"home\" }</td>\n",
       "    </tr>\n",
       "    <tr>\n",
       "      <th>3</th>\n",
       "      <td>c7d3a7e5-1a77-4aa3-b575-93d7761b260b</td>\n",
       "      <td>8590374a-924a-426f-b90e-8660560dfb20</td>\n",
       "      <td>1dfbafda-1510-4427-a9fb-5994460e3e50</td>\n",
       "      <td>2023-01-24 19:58:55.322000-05:00</td>\n",
       "      <td>{ \"event\":\"pageview\", \"page\":\"home\" }</td>\n",
       "    </tr>\n",
       "    <tr>\n",
       "      <th>4</th>\n",
       "      <td>fb3e5bb6-b715-4a9a-b5fe-74d298502acc</td>\n",
       "      <td>0eb76668-026d-44a5-a824-a1e68456d4d3</td>\n",
       "      <td>d985a0f1-0af3-4204-bf16-275f3639e892</td>\n",
       "      <td>2023-01-24 23:58:54.022000-05:00</td>\n",
       "      <td>{ \"event\":\"pageview\", \"page\":\"home\" }</td>\n",
       "    </tr>\n",
       "    <tr>\n",
       "      <th>5</th>\n",
       "      <td>fb3e5bb6-b715-4a9a-b5fe-74d298502acc</td>\n",
       "      <td>0eb76668-026d-44a5-a824-a1e68456d4d3</td>\n",
       "      <td>d985a0f1-0af3-4204-bf16-275f3639e892</td>\n",
       "      <td>2023-01-24 23:58:54.022000-05:00</td>\n",
       "      <td>{ \"event\":\"pageview\", \"page\":\"home\" }</td>\n",
       "    </tr>\n",
       "    <tr>\n",
       "      <th>6</th>\n",
       "      <td>fb3e5bb6-b715-4a9a-b5fe-74d298502acc</td>\n",
       "      <td>8f16e244-9d02-4cba-9d59-7959fefa8ccb</td>\n",
       "      <td>d985a0f1-0af3-4204-bf16-275f3639e892</td>\n",
       "      <td>2023-01-24 23:59:04.022000-05:00</td>\n",
       "      <td>{ \"event\":\"search\", \"page\":\"search\", \"search_tag\":\"comfort-food\" }</td>\n",
       "    </tr>\n",
       "    <tr>\n",
       "      <th>7</th>\n",
       "      <td>fb3e5bb6-b715-4a9a-b5fe-74d298502acc</td>\n",
       "      <td>7e8c6e59-4852-4989-9745-239650e7e028</td>\n",
       "      <td>d985a0f1-0af3-4204-bf16-275f3639e892</td>\n",
       "      <td>2023-01-25 00:05:00.022000-05:00</td>\n",
       "      <td>{ \"event\":\"search\", \"page\":\"search\", \"search_tag\":\"comfort-food\" }</td>\n",
       "    </tr>\n",
       "    <tr>\n",
       "      <th>8</th>\n",
       "      <td>fb3e5bb6-b715-4a9a-b5fe-74d298502acc</td>\n",
       "      <td>d59fede2-4e48-42d0-b4c2-b1878a6a9146</td>\n",
       "      <td>d985a0f1-0af3-4204-bf16-275f3639e892</td>\n",
       "      <td>2023-01-25 00:05:21.022000-05:00</td>\n",
       "      <td>{ \"event\":\"view_recipe\", \"page\":\"recipe\", \"recipe_id\":\"44dcd777-5b10-41e2-90df-4dca4b696971\" }</td>\n",
       "    </tr>\n",
       "    <tr>\n",
       "      <th>9</th>\n",
       "      <td>dd1c8bed-752d-4ca4-9b64-314d0a8f29c0</td>\n",
       "      <td>01c1e6f5-690c-4894-b82d-8927f702aa59</td>\n",
       "      <td>2bc9219e-0bd2-4aa7-bc17-5f435fcfaae4</td>\n",
       "      <td>2023-01-30 19:32:45.473000-05:00</td>\n",
       "      <td>{ \"event\":\"pageview\", \"page\":\"home\" }</td>\n",
       "    </tr>\n",
       "    <tr>\n",
       "      <th>10</th>\n",
       "      <td>dd1c8bed-752d-4ca4-9b64-314d0a8f29c0</td>\n",
       "      <td>01c1e6f5-690c-4894-b82d-8927f702aa59</td>\n",
       "      <td>2bc9219e-0bd2-4aa7-bc17-5f435fcfaae4</td>\n",
       "      <td>2023-01-30 19:32:45.473000-05:00</td>\n",
       "      <td>{ \"event\":\"pageview\", \"page\":\"home\" }</td>\n",
       "    </tr>\n",
       "    <tr>\n",
       "      <th>11</th>\n",
       "      <td>dd1c8bed-752d-4ca4-9b64-314d0a8f29c0</td>\n",
       "      <td>10b94bc6-a960-46e5-a49e-c1842388e9b3</td>\n",
       "      <td>2bc9219e-0bd2-4aa7-bc17-5f435fcfaae4</td>\n",
       "      <td>2023-01-30 19:33:39.473000-05:00</td>\n",
       "      <td>{ \"event\":\"search\", \"page\":\"search\", \"search_tag\":\"comfort-food\" }</td>\n",
       "    </tr>\n",
       "    <tr>\n",
       "      <th>12</th>\n",
       "      <td>dd1c8bed-752d-4ca4-9b64-314d0a8f29c0</td>\n",
       "      <td>2e801f4a-aa5e-42d5-a6a8-a7f52a594d43</td>\n",
       "      <td>2bc9219e-0bd2-4aa7-bc17-5f435fcfaae4</td>\n",
       "      <td>2023-01-30 19:39:35.473000-05:00</td>\n",
       "      <td>{ \"event\":\"search\", \"page\":\"search\", \"search_tag\":\"comfort-food\" }</td>\n",
       "    </tr>\n",
       "    <tr>\n",
       "      <th>13</th>\n",
       "      <td>dd1c8bed-752d-4ca4-9b64-314d0a8f29c0</td>\n",
       "      <td>11d1a967-10d9-4058-b831-6d7f1046012e</td>\n",
       "      <td>2bc9219e-0bd2-4aa7-bc17-5f435fcfaae4</td>\n",
       "      <td>2023-01-30 19:39:56.473000-05:00</td>\n",
       "      <td>{ \"event\":\"view_recipe\", \"page\":\"recipe\", \"recipe_id\":\"44dcd777-5b10-41e2-90df-4dca4b696971\" }</td>\n",
       "    </tr>\n",
       "    <tr>\n",
       "      <th>14</th>\n",
       "      <td>3a0b4329-3ee0-4196-ad7f-27a6fac03a5f</td>\n",
       "      <td>00061c8c-ae3b-464a-8b99-802447a8d752</td>\n",
       "      <td>e534bb9c-9c5f-415b-b9f2-d330ddf9d23a</td>\n",
       "      <td>2023-01-31 03:32:43.774000-05:00</td>\n",
       "      <td>{ \"event\":\"pageview\", \"page\":\"home\" }</td>\n",
       "    </tr>\n",
       "    <tr>\n",
       "      <th>15</th>\n",
       "      <td>3a0b4329-3ee0-4196-ad7f-27a6fac03a5f</td>\n",
       "      <td>00061c8c-ae3b-464a-8b99-802447a8d752</td>\n",
       "      <td>e534bb9c-9c5f-415b-b9f2-d330ddf9d23a</td>\n",
       "      <td>2023-01-31 03:32:43.774000-05:00</td>\n",
       "      <td>{ \"event\":\"pageview\", \"page\":\"home\" }</td>\n",
       "    </tr>\n",
       "    <tr>\n",
       "      <th>16</th>\n",
       "      <td>3a0b4329-3ee0-4196-ad7f-27a6fac03a5f</td>\n",
       "      <td>6307de49-518b-4b92-8843-fc7e2fca107a</td>\n",
       "      <td>e534bb9c-9c5f-415b-b9f2-d330ddf9d23a</td>\n",
       "      <td>2023-01-31 03:33:43.774000-05:00</td>\n",
       "      <td>{ \"event\":\"search\", \"page\":\"search\", \"search_tag\":\"5-ingredients-or-less\" }</td>\n",
       "    </tr>\n",
       "    <tr>\n",
       "      <th>17</th>\n",
       "      <td>3a0b4329-3ee0-4196-ad7f-27a6fac03a5f</td>\n",
       "      <td>07e0bf2c-27eb-4e2a-94fa-f42841a25f18</td>\n",
       "      <td>e534bb9c-9c5f-415b-b9f2-d330ddf9d23a</td>\n",
       "      <td>2023-01-31 03:39:39.774000-05:00</td>\n",
       "      <td>{ \"event\":\"search\", \"page\":\"search\", \"search_tag\":\"5-ingredients-or-less\" }</td>\n",
       "    </tr>\n",
       "    <tr>\n",
       "      <th>18</th>\n",
       "      <td>3a0b4329-3ee0-4196-ad7f-27a6fac03a5f</td>\n",
       "      <td>fc78f516-f422-490b-969f-58d754b05d81</td>\n",
       "      <td>e534bb9c-9c5f-415b-b9f2-d330ddf9d23a</td>\n",
       "      <td>2023-01-31 03:39:48.774000-05:00</td>\n",
       "      <td>{ \"event\":\"view_recipe\", \"page\":\"recipe\", \"recipe_id\":\"44dcd777-5b10-41e2-90df-4dca4b696971\" }</td>\n",
       "    </tr>\n",
       "  </tbody>\n",
       "</table>\n",
       "</div>"
      ],
      "text/plain": [
       "                              session_id  \\\n",
       "0   a81ce2ae-74f6-4409-8ba6-e0807e714db9   \n",
       "1   a81ce2ae-74f6-4409-8ba6-e0807e714db9   \n",
       "2   c7d3a7e5-1a77-4aa3-b575-93d7761b260b   \n",
       "3   c7d3a7e5-1a77-4aa3-b575-93d7761b260b   \n",
       "4   fb3e5bb6-b715-4a9a-b5fe-74d298502acc   \n",
       "5   fb3e5bb6-b715-4a9a-b5fe-74d298502acc   \n",
       "6   fb3e5bb6-b715-4a9a-b5fe-74d298502acc   \n",
       "7   fb3e5bb6-b715-4a9a-b5fe-74d298502acc   \n",
       "8   fb3e5bb6-b715-4a9a-b5fe-74d298502acc   \n",
       "9   dd1c8bed-752d-4ca4-9b64-314d0a8f29c0   \n",
       "10  dd1c8bed-752d-4ca4-9b64-314d0a8f29c0   \n",
       "11  dd1c8bed-752d-4ca4-9b64-314d0a8f29c0   \n",
       "12  dd1c8bed-752d-4ca4-9b64-314d0a8f29c0   \n",
       "13  dd1c8bed-752d-4ca4-9b64-314d0a8f29c0   \n",
       "14  3a0b4329-3ee0-4196-ad7f-27a6fac03a5f   \n",
       "15  3a0b4329-3ee0-4196-ad7f-27a6fac03a5f   \n",
       "16  3a0b4329-3ee0-4196-ad7f-27a6fac03a5f   \n",
       "17  3a0b4329-3ee0-4196-ad7f-27a6fac03a5f   \n",
       "18  3a0b4329-3ee0-4196-ad7f-27a6fac03a5f   \n",
       "\n",
       "                                event_id  \\\n",
       "0   cbf76489-37c3-4fc9-a6f1-be0823067aec   \n",
       "1   cbf76489-37c3-4fc9-a6f1-be0823067aec   \n",
       "2   8590374a-924a-426f-b90e-8660560dfb20   \n",
       "3   8590374a-924a-426f-b90e-8660560dfb20   \n",
       "4   0eb76668-026d-44a5-a824-a1e68456d4d3   \n",
       "5   0eb76668-026d-44a5-a824-a1e68456d4d3   \n",
       "6   8f16e244-9d02-4cba-9d59-7959fefa8ccb   \n",
       "7   7e8c6e59-4852-4989-9745-239650e7e028   \n",
       "8   d59fede2-4e48-42d0-b4c2-b1878a6a9146   \n",
       "9   01c1e6f5-690c-4894-b82d-8927f702aa59   \n",
       "10  01c1e6f5-690c-4894-b82d-8927f702aa59   \n",
       "11  10b94bc6-a960-46e5-a49e-c1842388e9b3   \n",
       "12  2e801f4a-aa5e-42d5-a6a8-a7f52a594d43   \n",
       "13  11d1a967-10d9-4058-b831-6d7f1046012e   \n",
       "14  00061c8c-ae3b-464a-8b99-802447a8d752   \n",
       "15  00061c8c-ae3b-464a-8b99-802447a8d752   \n",
       "16  6307de49-518b-4b92-8843-fc7e2fca107a   \n",
       "17  07e0bf2c-27eb-4e2a-94fa-f42841a25f18   \n",
       "18  fc78f516-f422-490b-969f-58d754b05d81   \n",
       "\n",
       "                                 user_id                  event_timestamp  \\\n",
       "0   86d12402-6608-4d50-af53-dd12b6041531 2023-01-24 03:58:59.424000-05:00   \n",
       "1   86d12402-6608-4d50-af53-dd12b6041531 2023-01-24 03:58:59.424000-05:00   \n",
       "2   1dfbafda-1510-4427-a9fb-5994460e3e50 2023-01-24 19:58:55.322000-05:00   \n",
       "3   1dfbafda-1510-4427-a9fb-5994460e3e50 2023-01-24 19:58:55.322000-05:00   \n",
       "4   d985a0f1-0af3-4204-bf16-275f3639e892 2023-01-24 23:58:54.022000-05:00   \n",
       "5   d985a0f1-0af3-4204-bf16-275f3639e892 2023-01-24 23:58:54.022000-05:00   \n",
       "6   d985a0f1-0af3-4204-bf16-275f3639e892 2023-01-24 23:59:04.022000-05:00   \n",
       "7   d985a0f1-0af3-4204-bf16-275f3639e892 2023-01-25 00:05:00.022000-05:00   \n",
       "8   d985a0f1-0af3-4204-bf16-275f3639e892 2023-01-25 00:05:21.022000-05:00   \n",
       "9   2bc9219e-0bd2-4aa7-bc17-5f435fcfaae4 2023-01-30 19:32:45.473000-05:00   \n",
       "10  2bc9219e-0bd2-4aa7-bc17-5f435fcfaae4 2023-01-30 19:32:45.473000-05:00   \n",
       "11  2bc9219e-0bd2-4aa7-bc17-5f435fcfaae4 2023-01-30 19:33:39.473000-05:00   \n",
       "12  2bc9219e-0bd2-4aa7-bc17-5f435fcfaae4 2023-01-30 19:39:35.473000-05:00   \n",
       "13  2bc9219e-0bd2-4aa7-bc17-5f435fcfaae4 2023-01-30 19:39:56.473000-05:00   \n",
       "14  e534bb9c-9c5f-415b-b9f2-d330ddf9d23a 2023-01-31 03:32:43.774000-05:00   \n",
       "15  e534bb9c-9c5f-415b-b9f2-d330ddf9d23a 2023-01-31 03:32:43.774000-05:00   \n",
       "16  e534bb9c-9c5f-415b-b9f2-d330ddf9d23a 2023-01-31 03:33:43.774000-05:00   \n",
       "17  e534bb9c-9c5f-415b-b9f2-d330ddf9d23a 2023-01-31 03:39:39.774000-05:00   \n",
       "18  e534bb9c-9c5f-415b-b9f2-d330ddf9d23a 2023-01-31 03:39:48.774000-05:00   \n",
       "\n",
       "                                                                                     event_details  \n",
       "0                                                            { \"event\":\"pageview\", \"page\":\"home\" }  \n",
       "1                                                            { \"event\":\"pageview\", \"page\":\"home\" }  \n",
       "2                                                            { \"event\":\"pageview\", \"page\":\"home\" }  \n",
       "3                                                            { \"event\":\"pageview\", \"page\":\"home\" }  \n",
       "4                                                            { \"event\":\"pageview\", \"page\":\"home\" }  \n",
       "5                                                            { \"event\":\"pageview\", \"page\":\"home\" }  \n",
       "6                               { \"event\":\"search\", \"page\":\"search\", \"search_tag\":\"comfort-food\" }  \n",
       "7                               { \"event\":\"search\", \"page\":\"search\", \"search_tag\":\"comfort-food\" }  \n",
       "8   { \"event\":\"view_recipe\", \"page\":\"recipe\", \"recipe_id\":\"44dcd777-5b10-41e2-90df-4dca4b696971\" }  \n",
       "9                                                            { \"event\":\"pageview\", \"page\":\"home\" }  \n",
       "10                                                           { \"event\":\"pageview\", \"page\":\"home\" }  \n",
       "11                              { \"event\":\"search\", \"page\":\"search\", \"search_tag\":\"comfort-food\" }  \n",
       "12                              { \"event\":\"search\", \"page\":\"search\", \"search_tag\":\"comfort-food\" }  \n",
       "13  { \"event\":\"view_recipe\", \"page\":\"recipe\", \"recipe_id\":\"44dcd777-5b10-41e2-90df-4dca4b696971\" }  \n",
       "14                                                           { \"event\":\"pageview\", \"page\":\"home\" }  \n",
       "15                                                           { \"event\":\"pageview\", \"page\":\"home\" }  \n",
       "16                     { \"event\":\"search\", \"page\":\"search\", \"search_tag\":\"5-ingredients-or-less\" }  \n",
       "17                     { \"event\":\"search\", \"page\":\"search\", \"search_tag\":\"5-ingredients-or-less\" }  \n",
       "18  { \"event\":\"view_recipe\", \"page\":\"recipe\", \"recipe_id\":\"44dcd777-5b10-41e2-90df-4dca4b696971\" }  "
      ]
     },
     "metadata": {},
     "output_type": "display_data"
    }
   ],
   "source": [
    "with pd.option_context('display.max_colwidth', None):\n",
    "    with pd.option_context('display.max_rows', None):\n",
    "        display(result.DataFrame())"
   ]
  },
  {
   "cell_type": "markdown",
   "id": "7cc41db7-08cf-445e-b51c-68fd424b15d0",
   "metadata": {},
   "source": [
    "**Observations**\n",
    "\n",
    "1. The implementation of event logging in the `events.website_activity` table contains a single duplicate for all events corresponding to a view of the Virtual Kitchen website home page. Events with `{ \"event\":\"pageview\", \"page\":\"home\" }` in the `event_details` column are **always** duplicated once. The duplicate contains identical values in the `event_id` and `event_timestamp` columns. This is seen in all five `session_id`s shown above.\n",
    "2. The `event_id` and `event_timestamp` columns are never duplicated for user searches. See the `session_id`s `fb3e5bb6-b715-4a9a-b5fe-74d298502acc`, `dd1c8bed-752d-4ca4-9b64-314d0a8f29c0` and `3a0b4329-3ee0-4196-ad7f-27a6fac03a5f` in which the user performed multiple searches during a single session and each search was assigned a unique `event_id` and `event_timestamp`.\n",
    "3. If a recipe is viewed (`view_recipe`), then it occurs at the end of the session. It is always the last event in each session. This means the session ends when the user views a recipe."
   ]
  },
  {
   "cell_type": "markdown",
   "id": "fab0d8f9-7aef-4168-afc3-f510df752a29",
   "metadata": {},
   "source": [
    "### Strategy to Remove Duplicates"
   ]
  },
  {
   "cell_type": "markdown",
   "id": "03487b34-37e9-4080-bc7f-66390213bf7a",
   "metadata": {},
   "source": [
    "Duplicated `event_id` or `event_timestamp` (events corresponding to a view of the home page) can be removed by taking the first such event only, as shown below"
   ]
  },
  {
   "cell_type": "code",
   "execution_count": 14,
   "id": "1b9076a8-5a05-40a1-82d3-38e25de149c7",
   "metadata": {},
   "outputs": [
    {
     "data": {
      "text/html": [
       "<span style=\"None\">Running query in &#x27;connection&#x27;</span>"
      ],
      "text/plain": [
       "Running query in 'connection'"
      ]
     },
     "metadata": {},
     "output_type": "display_data"
    },
    {
     "data": {
      "text/html": [
       "<span style=\"color: green\">309 rows affected.</span>"
      ],
      "text/plain": [
       "309 rows affected."
      ]
     },
     "metadata": {},
     "output_type": "display_data"
    },
    {
     "data": {
      "text/html": [
       "<table>\n",
       "    <thead>\n",
       "        <tr>\n",
       "            <th>session_id</th>\n",
       "            <th>event_id</th>\n",
       "            <th>event_details</th>\n",
       "            <th>event_timestamp</th>\n",
       "        </tr>\n",
       "    </thead>\n",
       "    <tbody>\n",
       "        <tr>\n",
       "            <td>a81ce2ae-74f6-4409-8ba6-e0807e714db9</td>\n",
       "            <td>cbf76489-37c3-4fc9-a6f1-be0823067aec</td>\n",
       "            <td>{ \"event\":\"pageview\", \"page\":\"home\" }</td>\n",
       "            <td>2023-01-24 03:58:59.424000-05:00</td>\n",
       "        </tr>\n",
       "        <tr>\n",
       "            <td>70ce9652-49f6-4c00-a9d3-ca0aee482147</td>\n",
       "            <td>e4090e60-bb72-4057-a576-c6d3c0dfae62</td>\n",
       "            <td>{ \"event\":\"pageview\", \"page\":\"home\" }</td>\n",
       "            <td>2023-01-24 11:58:57.985000-05:00</td>\n",
       "        </tr>\n",
       "        <tr>\n",
       "            <td>63b4464c-0523-4c66-bc50-8e54470308bf</td>\n",
       "            <td>3d781e12-3834-4f8c-9b5f-224b0f3f7e38</td>\n",
       "            <td>{ \"event\":\"pageview\", \"page\":\"home\" }</td>\n",
       "            <td>2023-01-24 15:58:56.625000-05:00</td>\n",
       "        </tr>\n",
       "        <tr>\n",
       "            <td>c7d3a7e5-1a77-4aa3-b575-93d7761b260b</td>\n",
       "            <td>8590374a-924a-426f-b90e-8660560dfb20</td>\n",
       "            <td>{ \"event\":\"pageview\", \"page\":\"home\" }</td>\n",
       "            <td>2023-01-24 19:58:55.322000-05:00</td>\n",
       "        </tr>\n",
       "        <tr>\n",
       "            <td>fb3e5bb6-b715-4a9a-b5fe-74d298502acc</td>\n",
       "            <td>0eb76668-026d-44a5-a824-a1e68456d4d3</td>\n",
       "            <td>{ \"event\":\"pageview\", \"page\":\"home\" }</td>\n",
       "            <td>2023-01-24 23:58:54.022000-05:00</td>\n",
       "        </tr>\n",
       "        <tr>\n",
       "            <td>44484161-a129-4b7d-947b-184a4c1c5423</td>\n",
       "            <td>afc01df0-3b6d-4f6d-b171-7912f16fcf70</td>\n",
       "            <td>{ \"event\":\"pageview\", \"page\":\"home\" }</td>\n",
       "            <td>2023-01-25 11:51:58.751000-05:00</td>\n",
       "        </tr>\n",
       "        <tr>\n",
       "            <td>dc11aa86-e1bd-489e-8dba-bc91d7f90786</td>\n",
       "            <td>46e5231c-b9e3-4364-b736-142356bf2972</td>\n",
       "            <td>{ \"event\":\"pageview\", \"page\":\"home\" }</td>\n",
       "            <td>2023-01-25 15:51:57.051000-05:00</td>\n",
       "        </tr>\n",
       "        <tr>\n",
       "            <td>c28c6f7d-fdec-4d6a-8ef6-4f341a420e9d</td>\n",
       "            <td>7114298b-64a5-4d7f-b654-a76a6d070783</td>\n",
       "            <td>{ \"event\":\"pageview\", \"page\":\"home\" }</td>\n",
       "            <td>2023-01-25 19:49:58.224000-05:00</td>\n",
       "        </tr>\n",
       "        <tr>\n",
       "            <td>ee793591-d1f3-4c45-8476-f7775283137f</td>\n",
       "            <td>1d65b9fc-4076-43c3-b38a-8b9cb1384cf7</td>\n",
       "            <td>{ \"event\":\"pageview\", \"page\":\"home\" }</td>\n",
       "            <td>2023-01-25 23:51:55.831000-05:00</td>\n",
       "        </tr>\n",
       "        <tr>\n",
       "            <td>47d255b7-4f00-412c-a4ca-7f651db8287f</td>\n",
       "            <td>74c18f69-6012-451f-916e-767c6568d7da</td>\n",
       "            <td>{ \"event\":\"pageview\", \"page\":\"home\" }</td>\n",
       "            <td>2023-01-26 18:56:45.152000-05:00</td>\n",
       "        </tr>\n",
       "    </tbody>\n",
       "</table>\n",
       "<span style=\"font-style:italic;text-align:center;\">Truncated to <a href=\"https://jupysql.ploomber.io/en/latest/api/configuration.html#displaylimit\">displaylimit</a> of 10.</span>"
      ],
      "text/plain": [
       "+--------------------------------------+--------------------------------------+---------------------------------------+----------------------------------+\n",
       "|              session_id              |               event_id               |             event_details             |         event_timestamp          |\n",
       "+--------------------------------------+--------------------------------------+---------------------------------------+----------------------------------+\n",
       "| a81ce2ae-74f6-4409-8ba6-e0807e714db9 | cbf76489-37c3-4fc9-a6f1-be0823067aec | { \"event\":\"pageview\", \"page\":\"home\" } | 2023-01-24 03:58:59.424000-05:00 |\n",
       "| 70ce9652-49f6-4c00-a9d3-ca0aee482147 | e4090e60-bb72-4057-a576-c6d3c0dfae62 | { \"event\":\"pageview\", \"page\":\"home\" } | 2023-01-24 11:58:57.985000-05:00 |\n",
       "| 63b4464c-0523-4c66-bc50-8e54470308bf | 3d781e12-3834-4f8c-9b5f-224b0f3f7e38 | { \"event\":\"pageview\", \"page\":\"home\" } | 2023-01-24 15:58:56.625000-05:00 |\n",
       "| c7d3a7e5-1a77-4aa3-b575-93d7761b260b | 8590374a-924a-426f-b90e-8660560dfb20 | { \"event\":\"pageview\", \"page\":\"home\" } | 2023-01-24 19:58:55.322000-05:00 |\n",
       "| fb3e5bb6-b715-4a9a-b5fe-74d298502acc | 0eb76668-026d-44a5-a824-a1e68456d4d3 | { \"event\":\"pageview\", \"page\":\"home\" } | 2023-01-24 23:58:54.022000-05:00 |\n",
       "| 44484161-a129-4b7d-947b-184a4c1c5423 | afc01df0-3b6d-4f6d-b171-7912f16fcf70 | { \"event\":\"pageview\", \"page\":\"home\" } | 2023-01-25 11:51:58.751000-05:00 |\n",
       "| dc11aa86-e1bd-489e-8dba-bc91d7f90786 | 46e5231c-b9e3-4364-b736-142356bf2972 | { \"event\":\"pageview\", \"page\":\"home\" } | 2023-01-25 15:51:57.051000-05:00 |\n",
       "| c28c6f7d-fdec-4d6a-8ef6-4f341a420e9d | 7114298b-64a5-4d7f-b654-a76a6d070783 | { \"event\":\"pageview\", \"page\":\"home\" } | 2023-01-25 19:49:58.224000-05:00 |\n",
       "| ee793591-d1f3-4c45-8476-f7775283137f | 1d65b9fc-4076-43c3-b38a-8b9cb1384cf7 | { \"event\":\"pageview\", \"page\":\"home\" } | 2023-01-25 23:51:55.831000-05:00 |\n",
       "| 47d255b7-4f00-412c-a4ca-7f651db8287f | 74c18f69-6012-451f-916e-767c6568d7da | { \"event\":\"pageview\", \"page\":\"home\" } | 2023-01-26 18:56:45.152000-05:00 |\n",
       "+--------------------------------------+--------------------------------------+---------------------------------------+----------------------------------+\n",
       "Truncated to displaylimit of 10."
      ]
     },
     "execution_count": 14,
     "metadata": {},
     "output_type": "execute_result"
    }
   ],
   "source": [
    "%%sql result = <<\n",
    "WITH website_activity_no_duplicates_no_redundancy AS (\n",
    "    SELECT session_id,\n",
    "           event_id,\n",
    "           event_details,\n",
    "           MIN(event_timestamp) AS event_timestamp\n",
    "    FROM events.website_activity\n",
    "    GROUP BY ALL\n",
    ")\n",
    "SELECT *\n",
    "FROM website_activity_no_duplicates_no_redundancy"
   ]
  },
  {
   "cell_type": "markdown",
   "id": "3d56eb3e-4a2a-471c-9ab4-37d8ed691100",
   "metadata": {},
   "source": [
    "### Unique Events Per Page"
   ]
  },
  {
   "cell_type": "markdown",
   "id": "f2a56556-483c-42bc-bed7-1f0b2132b490",
   "metadata": {},
   "source": [
    "#### Checking for Last Action Performed by Users During a Session"
   ]
  },
  {
   "cell_type": "markdown",
   "id": "ad3c7be9-2870-4e12-9141-e594400b591e",
   "metadata": {},
   "source": [
    "Get the last event performed by users during a session and the number of users who performed them"
   ]
  },
  {
   "cell_type": "code",
   "execution_count": 15,
   "id": "17e3b59d-ddff-4166-a9f9-23341101544a",
   "metadata": {},
   "outputs": [
    {
     "data": {
      "text/html": [
       "<span style=\"None\">Running query in &#x27;connection&#x27;</span>"
      ],
      "text/plain": [
       "Running query in 'connection'"
      ]
     },
     "metadata": {},
     "output_type": "display_data"
    },
    {
     "data": {
      "text/html": [
       "<span style=\"color: green\">2 rows affected.</span>"
      ],
      "text/plain": [
       "2 rows affected."
      ]
     },
     "metadata": {},
     "output_type": "display_data"
    },
    {
     "data": {
      "text/html": [
       "<table>\n",
       "    <thead>\n",
       "        <tr>\n",
       "            <th>last_event</th>\n",
       "            <th>num_users</th>\n",
       "            <th>frac_users</th>\n",
       "        </tr>\n",
       "    </thead>\n",
       "    <tbody>\n",
       "        <tr>\n",
       "            <td>\"pageview\"</td>\n",
       "            <td>123</td>\n",
       "            <td>69.101124</td>\n",
       "        </tr>\n",
       "        <tr>\n",
       "            <td>\"view_recipe\"</td>\n",
       "            <td>55</td>\n",
       "            <td>30.898876</td>\n",
       "        </tr>\n",
       "    </tbody>\n",
       "</table>"
      ],
      "text/plain": [
       "+---------------+-----------+------------+\n",
       "|   last_event  | num_users | frac_users |\n",
       "+---------------+-----------+------------+\n",
       "|   \"pageview\"  |    123    | 69.101124  |\n",
       "| \"view_recipe\" |     55    | 30.898876  |\n",
       "+---------------+-----------+------------+"
      ]
     },
     "execution_count": 15,
     "metadata": {},
     "output_type": "execute_result"
    }
   ],
   "source": [
    "%%sql result = <<\n",
    "/* get last event performed by each user */\n",
    "WITH users_last_events AS (\n",
    "    SELECT DISTINCT user_id,\n",
    "           LAST_VALUE(event_details_json:event) OVER(\n",
    "               PARTITION BY user_id\n",
    "               ORDER BY event_timestamp\n",
    "           ) AS last_event\n",
    "    FROM (\n",
    "        SELECT user_id,\n",
    "               event_timestamp,\n",
    "               PARSE_JSON(event_details) AS event_details_json\n",
    "        FROM events.website_activity\n",
    "    )\n",
    "),\n",
    "/* get how often the last event was performed */\n",
    "frequency_of_last_events AS (\n",
    "    SELECT last_event,\n",
    "           COUNT(*) AS num_users\n",
    "    FROM users_last_events\n",
    "    GROUP BY ALL\n",
    ")\n",
    "SELECT *,\n",
    "       100*num_users/(\n",
    "           SELECT SUM(num_users)\n",
    "           FROM frequency_of_last_events\n",
    "       ) AS frac_users\n",
    "FROM frequency_of_last_events\n",
    "GROUP BY ALL"
   ]
  },
  {
   "cell_type": "markdown",
   "id": "9af1c15e-fd68-45bb-9e2f-110d0a0f5f64",
   "metadata": {},
   "source": [
    "**Observations**\n",
    "\n",
    "1. Approximately 30% of users ended their session by viewing a recipe. The remaining 70% ended their session by viewing the home page of the Virtual Kitchen website."
   ]
  },
  {
   "cell_type": "markdown",
   "id": "daf588bf-ca55-4cc1-a4ec-8927aee3dbbe",
   "metadata": {},
   "source": [
    "(optional) Get two users who ended their session by viewing a recipe"
   ]
  },
  {
   "cell_type": "code",
   "execution_count": 16,
   "id": "7a81c7df-4f12-45dc-8617-e2c786cfd824",
   "metadata": {},
   "outputs": [
    {
     "data": {
      "text/html": [
       "<span style=\"None\">Running query in &#x27;connection&#x27;</span>"
      ],
      "text/plain": [
       "Running query in 'connection'"
      ]
     },
     "metadata": {},
     "output_type": "display_data"
    },
    {
     "data": {
      "text/html": [
       "<span style=\"color: green\">2 rows affected.</span>"
      ],
      "text/plain": [
       "2 rows affected."
      ]
     },
     "metadata": {},
     "output_type": "display_data"
    },
    {
     "data": {
      "text/html": [
       "<table>\n",
       "    <thead>\n",
       "        <tr>\n",
       "            <th>user_id</th>\n",
       "        </tr>\n",
       "    </thead>\n",
       "    <tbody>\n",
       "        <tr>\n",
       "            <td>4558e9dd-41e9-424c-b149-7d8f93729be8</td>\n",
       "        </tr>\n",
       "        <tr>\n",
       "            <td>d985a0f1-0af3-4204-bf16-275f3639e892</td>\n",
       "        </tr>\n",
       "    </tbody>\n",
       "</table>"
      ],
      "text/plain": [
       "+--------------------------------------+\n",
       "|               user_id                |\n",
       "+--------------------------------------+\n",
       "| 4558e9dd-41e9-424c-b149-7d8f93729be8 |\n",
       "| d985a0f1-0af3-4204-bf16-275f3639e892 |\n",
       "+--------------------------------------+"
      ]
     },
     "execution_count": 16,
     "metadata": {},
     "output_type": "execute_result"
    }
   ],
   "source": [
    "%%sql result = <<\n",
    "SELECT user_id\n",
    "FROM (\n",
    "    SELECT user_id,\n",
    "           LAST_VALUE(event_details_json:event) OVER(\n",
    "               PARTITION BY session_id\n",
    "               ORDER BY event_timestamp\n",
    "           ) AS last_event\n",
    "    FROM (\n",
    "        SELECT user_id,\n",
    "               session_id,\n",
    "               event_timestamp,\n",
    "               PARSE_JSON(event_details) AS event_details_json\n",
    "        FROM events.website_activity\n",
    "    )\n",
    ")\n",
    "WHERE last_event = 'view_recipe'\n",
    "LIMIT 2"
   ]
  },
  {
   "cell_type": "markdown",
   "id": "808f52ba-be4d-4738-b579-ec7667a31dce",
   "metadata": {},
   "source": [
    "(optional) Get five users who ended their session by viewing the home page of the Virtual Kitchen website"
   ]
  },
  {
   "cell_type": "code",
   "execution_count": 17,
   "id": "2b14c873-f657-4b7d-a28e-5628c4a8ea3b",
   "metadata": {},
   "outputs": [
    {
     "data": {
      "text/html": [
       "<span style=\"None\">Running query in &#x27;connection&#x27;</span>"
      ],
      "text/plain": [
       "Running query in 'connection'"
      ]
     },
     "metadata": {},
     "output_type": "display_data"
    },
    {
     "data": {
      "text/html": [
       "<span style=\"color: green\">5 rows affected.</span>"
      ],
      "text/plain": [
       "5 rows affected."
      ]
     },
     "metadata": {},
     "output_type": "display_data"
    },
    {
     "data": {
      "text/html": [
       "<table>\n",
       "    <thead>\n",
       "        <tr>\n",
       "            <th>user_id</th>\n",
       "        </tr>\n",
       "    </thead>\n",
       "    <tbody>\n",
       "        <tr>\n",
       "            <td>4558e9dd-41e9-424c-b149-7d8f93729be8</td>\n",
       "        </tr>\n",
       "        <tr>\n",
       "            <td>d985a0f1-0af3-4204-bf16-275f3639e892</td>\n",
       "        </tr>\n",
       "        <tr>\n",
       "            <td>57a8bfd3-87cb-4415-9e42-39314a7f8926</td>\n",
       "        </tr>\n",
       "        <tr>\n",
       "            <td>03a4f6b8-9c42-4242-b15f-fce3674f5b9f</td>\n",
       "        </tr>\n",
       "        <tr>\n",
       "            <td>9b5e5510-40d1-4dda-bc31-05800e3347c4</td>\n",
       "        </tr>\n",
       "    </tbody>\n",
       "</table>"
      ],
      "text/plain": [
       "+--------------------------------------+\n",
       "|               user_id                |\n",
       "+--------------------------------------+\n",
       "| 4558e9dd-41e9-424c-b149-7d8f93729be8 |\n",
       "| d985a0f1-0af3-4204-bf16-275f3639e892 |\n",
       "| 57a8bfd3-87cb-4415-9e42-39314a7f8926 |\n",
       "| 03a4f6b8-9c42-4242-b15f-fce3674f5b9f |\n",
       "| 9b5e5510-40d1-4dda-bc31-05800e3347c4 |\n",
       "+--------------------------------------+"
      ]
     },
     "execution_count": 17,
     "metadata": {},
     "output_type": "execute_result"
    }
   ],
   "source": [
    "%%sql result = <<\n",
    "SELECT user_id\n",
    "FROM (\n",
    "    SELECT user_id,\n",
    "           LAST_VALUE(event_details_json:event) OVER(\n",
    "               PARTITION BY session_id\n",
    "               ORDER BY event_timestamp\n",
    "           ) AS last_event\n",
    "    FROM (\n",
    "        SELECT user_id,\n",
    "               session_id,\n",
    "               event_timestamp,\n",
    "               PARSE_JSON(event_details) AS event_details_json\n",
    "        FROM events.website_activity\n",
    "    )\n",
    ")\n",
    "WHERE last_event != 'pageview'\n",
    "LIMIT 5"
   ]
  },
  {
   "cell_type": "markdown",
   "id": "1daf810d-63ab-4708-9b65-c19ce3a6ecd4",
   "metadata": {},
   "source": [
    "#### Get the number of unique events per type of page viewed"
   ]
  },
  {
   "cell_type": "markdown",
   "id": "0dcc5a53-f51c-44fa-bd31-b9968ad8cbf3",
   "metadata": {},
   "source": [
    "For each type of page that is viewed, count the number of events"
   ]
  },
  {
   "cell_type": "code",
   "execution_count": 18,
   "id": "bffcdb97-3d05-4a04-a377-1e16c829b98c",
   "metadata": {},
   "outputs": [
    {
     "data": {
      "text/html": [
       "<span style=\"None\">Running query in &#x27;connection&#x27;</span>"
      ],
      "text/plain": [
       "Running query in 'connection'"
      ]
     },
     "metadata": {},
     "output_type": "display_data"
    },
    {
     "data": {
      "text/html": [
       "<span style=\"color: green\">3 rows affected.</span>"
      ],
      "text/plain": [
       "3 rows affected."
      ]
     },
     "metadata": {},
     "output_type": "display_data"
    },
    {
     "data": {
      "text/html": [
       "<table>\n",
       "    <thead>\n",
       "        <tr>\n",
       "            <th>page</th>\n",
       "            <th>num_events</th>\n",
       "        </tr>\n",
       "    </thead>\n",
       "    <tbody>\n",
       "        <tr>\n",
       "            <td>\"home\"</td>\n",
       "            <td>178</td>\n",
       "        </tr>\n",
       "        <tr>\n",
       "            <td>\"search\"</td>\n",
       "            <td>76</td>\n",
       "        </tr>\n",
       "        <tr>\n",
       "            <td>\"recipe\"</td>\n",
       "            <td>55</td>\n",
       "        </tr>\n",
       "    </tbody>\n",
       "</table>"
      ],
      "text/plain": [
       "+----------+------------+\n",
       "|   page   | num_events |\n",
       "+----------+------------+\n",
       "|  \"home\"  |    178     |\n",
       "| \"search\" |     76     |\n",
       "| \"recipe\" |     55     |\n",
       "+----------+------------+"
      ]
     },
     "execution_count": 18,
     "metadata": {},
     "output_type": "execute_result"
    }
   ],
   "source": [
    "%%sql result = <<\n",
    "WITH website_activity_no_duplicates_no_redundancy AS (\n",
    "    SELECT session_id,\n",
    "           event_id,\n",
    "           event_details,\n",
    "           MIN(event_timestamp) AS event_timestamp,\n",
    "    FROM events.website_activity\n",
    "    GROUP BY ALL\n",
    "),\n",
    "t1 AS (\n",
    "    SELECT event_timestamp,\n",
    "           PARSE_JSON(event_details) AS ev\n",
    "    FROM website_activity_no_duplicates_no_redundancy\n",
    ")\n",
    "SELECT ev:page AS page,\n",
    "       COUNT(event_timestamp) AS num_events\n",
    "FROM t1\n",
    "GROUP BY ALL"
   ]
  },
  {
   "cell_type": "markdown",
   "id": "c75a7d35-8bad-45a5-be90-d8079c92aafc",
   "metadata": {},
   "source": [
    "**Observations**\n",
    "\n",
    "1. Users visited three types of pages. The home page of the Virtual kitchen website was most frequently viewed page, followed by a recipe search and then by viewing a recipe. This is expected since users must access the home page in order to perform a search. Similarly, users must perform a search to view a recipe.\n",
    "2. When a (recipe) search is performed, the recipe suggestion algorithm is used to display results (recipes). The search algorithm is being changed by the Virtual Kitchen developers, so (recipe) search results returned in the future will be different from those being currently returned."
   ]
  },
  {
   "cell_type": "markdown",
   "id": "d99b8199-c71b-44b3-876b-6cc123828a84",
   "metadata": {},
   "source": [
    "#### Get the number of unique events per user action"
   ]
  },
  {
   "cell_type": "markdown",
   "id": "fbe594a9-038a-4b21-b41f-6eacedc54d13",
   "metadata": {},
   "source": [
    "For each type of user action that is performed on the site, count the number of events"
   ]
  },
  {
   "cell_type": "code",
   "execution_count": 20,
   "id": "f5f32677-c040-46d8-b322-543d85de2b56",
   "metadata": {},
   "outputs": [
    {
     "data": {
      "text/html": [
       "<span style=\"None\">Running query in &#x27;connection&#x27;</span>"
      ],
      "text/plain": [
       "Running query in 'connection'"
      ]
     },
     "metadata": {},
     "output_type": "display_data"
    },
    {
     "data": {
      "text/html": [
       "<span style=\"color: green\">3 rows affected.</span>"
      ],
      "text/plain": [
       "3 rows affected."
      ]
     },
     "metadata": {},
     "output_type": "display_data"
    },
    {
     "data": {
      "text/html": [
       "<table>\n",
       "    <thead>\n",
       "        <tr>\n",
       "            <th>action</th>\n",
       "            <th>num_events</th>\n",
       "        </tr>\n",
       "    </thead>\n",
       "    <tbody>\n",
       "        <tr>\n",
       "            <td>\"pageview\"</td>\n",
       "            <td>178</td>\n",
       "        </tr>\n",
       "        <tr>\n",
       "            <td>\"search\"</td>\n",
       "            <td>76</td>\n",
       "        </tr>\n",
       "        <tr>\n",
       "            <td>\"view_recipe\"</td>\n",
       "            <td>55</td>\n",
       "        </tr>\n",
       "    </tbody>\n",
       "</table>"
      ],
      "text/plain": [
       "+---------------+------------+\n",
       "|     action    | num_events |\n",
       "+---------------+------------+\n",
       "|   \"pageview\"  |    178     |\n",
       "|    \"search\"   |     76     |\n",
       "| \"view_recipe\" |     55     |\n",
       "+---------------+------------+"
      ]
     },
     "execution_count": 20,
     "metadata": {},
     "output_type": "execute_result"
    }
   ],
   "source": [
    "%%sql result = <<\n",
    "WITH website_activity_no_duplicates_no_redundancy AS (\n",
    "    SELECT session_id,\n",
    "           event_id,\n",
    "           event_details,\n",
    "           MIN(event_timestamp) AS event_timestamp,\n",
    "    FROM events.website_activity\n",
    "    GROUP BY ALL\n",
    "),\n",
    "t1 AS (\n",
    "    SELECT event_timestamp,\n",
    "           PARSE_JSON(event_details) AS ev\n",
    "    FROM website_activity_no_duplicates_no_redundancy\n",
    ")\n",
    "SELECT ev:event AS action,\n",
    "       COUNT(event_timestamp) AS num_events\n",
    "FROM t1\n",
    "GROUP BY ALL"
   ]
  },
  {
   "cell_type": "markdown",
   "id": "272bd64d-2412-4df0-89f3-1f5c23b8bdcf",
   "metadata": {},
   "source": [
    "**Observations**\n",
    "\n",
    "1. Users performed three types of actions. The most frequently performed action was viewing the Virtual Kitchen home page.\n",
    "2. `search` and `view_recipe` result in a page being viewed. However, these events are not logged as page views. Only views of the home page are logged as page views."
   ]
  },
  {
   "cell_type": "markdown",
   "id": "c2c4cd77-d1e1-4bf9-b3a0-58b3daf4995c",
   "metadata": {},
   "source": [
    "#### Compare Unique Events and Pages"
   ]
  },
  {
   "cell_type": "markdown",
   "id": "28a920a2-ce5a-48fd-a1f4-b31be2f1cfbc",
   "metadata": {},
   "source": [
    "For each action and the page on which it was performed, count the number of events"
   ]
  },
  {
   "cell_type": "code",
   "execution_count": 22,
   "id": "9d5d5316-ac59-4dc4-b511-eb94c2e08e49",
   "metadata": {},
   "outputs": [
    {
     "data": {
      "text/html": [
       "<span style=\"None\">Running query in &#x27;connection&#x27;</span>"
      ],
      "text/plain": [
       "Running query in 'connection'"
      ]
     },
     "metadata": {},
     "output_type": "display_data"
    },
    {
     "data": {
      "text/html": [
       "<span style=\"color: green\">3 rows affected.</span>"
      ],
      "text/plain": [
       "3 rows affected."
      ]
     },
     "metadata": {},
     "output_type": "display_data"
    },
    {
     "data": {
      "text/html": [
       "<table>\n",
       "    <thead>\n",
       "        <tr>\n",
       "            <th>action</th>\n",
       "            <th>page</th>\n",
       "            <th>num_events</th>\n",
       "        </tr>\n",
       "    </thead>\n",
       "    <tbody>\n",
       "        <tr>\n",
       "            <td>\"pageview\"</td>\n",
       "            <td>\"home\"</td>\n",
       "            <td>178</td>\n",
       "        </tr>\n",
       "        <tr>\n",
       "            <td>\"search\"</td>\n",
       "            <td>\"search\"</td>\n",
       "            <td>76</td>\n",
       "        </tr>\n",
       "        <tr>\n",
       "            <td>\"view_recipe\"</td>\n",
       "            <td>\"recipe\"</td>\n",
       "            <td>55</td>\n",
       "        </tr>\n",
       "    </tbody>\n",
       "</table>"
      ],
      "text/plain": [
       "+---------------+----------+------------+\n",
       "|     action    |   page   | num_events |\n",
       "+---------------+----------+------------+\n",
       "|   \"pageview\"  |  \"home\"  |    178     |\n",
       "|    \"search\"   | \"search\" |     76     |\n",
       "| \"view_recipe\" | \"recipe\" |     55     |\n",
       "+---------------+----------+------------+"
      ]
     },
     "execution_count": 22,
     "metadata": {},
     "output_type": "execute_result"
    }
   ],
   "source": [
    "%%sql result = <<\n",
    "WITH website_activity_no_duplicates_no_redundancy AS (\n",
    "    SELECT session_id,\n",
    "           event_id,\n",
    "           event_details,\n",
    "           MIN(event_timestamp) AS event_timestamp,\n",
    "    FROM events.website_activity\n",
    "    GROUP BY ALL\n",
    "),\n",
    "event_details_json AS (\n",
    "    SELECT event_timestamp,\n",
    "           PARSE_JSON(event_details) AS ev\n",
    "    FROM website_activity_no_duplicates_no_redundancy\n",
    ")\n",
    "SELECT ev:event AS action,\n",
    "       ev:page AS page,\n",
    "       COUNT(event_timestamp) AS num_events\n",
    "FROM event_details_json\n",
    "GROUP BY ALL"
   ]
  },
  {
   "cell_type": "markdown",
   "id": "7767f89c-6b4f-43b9-b677-f351e8ca8e05",
   "metadata": {},
   "source": [
    "**Observations**\n",
    "\n",
    "1. A single action is registered per page. So, the following have only one possible combination of `action` and `page`\n",
    "   - viewing the home page (`pageview` and `home`)\n",
    "   - performing a search (`search` and `search`)\n",
    "   - viewing a recipe (`view_recipe` and `recipe`)\n",
    "\n",
    "   For this reason, the event counts found here for the combination of `action` and `page` match those found above using only `action` or only `page`.\n",
    "2. In order to avoid selecting redundant columns and optimize query performance when website traffic increases, the `event` attribute of the `event_details` column will be used to extract info about the page being viewed or the action being performed. The `page` attribute will be excluded in all `SELECT` statements.\n",
    "3. This query output provides an indication of the [customer journey](https://www.snowflake.com/guides/customer-journey/) on the Virtual Kitchen website. Based on 1. and 2. and on the two sub-sections above (*Get the number of unique events per user action* and *Compare Unique Events and Pages*), we can infer the customer journey as View Home Page > Perform a Recipe Search > View a Recipe."
   ]
  },
  {
   "cell_type": "markdown",
   "id": "45ffe466-29f6-41b4-83ab-2c2e48c0db52",
   "metadata": {},
   "source": [
    "## Disconnect"
   ]
  },
  {
   "cell_type": "code",
   "execution_count": 21,
   "id": "c4ec4a12-d095-40f7-a482-fa762091d5eb",
   "metadata": {},
   "outputs": [],
   "source": [
    "%sql --close connection"
   ]
  }
 ],
 "metadata": {
  "kernelspec": {
   "display_name": "eda",
   "language": "python",
   "name": "eda"
  },
  "language_info": {
   "codemirror_mode": {
    "name": "ipython",
    "version": 3
   },
   "file_extension": ".py",
   "mimetype": "text/x-python",
   "name": "python",
   "nbconvert_exporter": "python",
   "pygments_lexer": "ipython3",
   "version": "3.12.3"
  }
 },
 "nbformat": 4,
 "nbformat_minor": 5
}
